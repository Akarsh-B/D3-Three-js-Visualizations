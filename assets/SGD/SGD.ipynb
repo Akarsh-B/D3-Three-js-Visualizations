{
 "cells": [
  {
   "cell_type": "code",
   "execution_count": 18,
   "metadata": {},
   "outputs": [],
   "source": [
    "import numpy as np\n",
    "import pandas as pd"
   ]
  },
  {
   "cell_type": "code",
   "execution_count": 19,
   "metadata": {},
   "outputs": [],
   "source": [
    "sgd_data = pd.read_csv('SlateGunDeaths.csv')"
   ]
  },
  {
   "cell_type": "code",
   "execution_count": 20,
   "metadata": {},
   "outputs": [
    {
     "output_type": "execute_result",
     "data": {
      "text/plain": "   victimID        date                name gender   age  ageGroup  \\\n0         1  2012-12-14    Antida Archuleta      F  20.0       3.0   \n1         2  2012-12-14     Charlotte Bacon      F   6.0       1.0   \n2         3  2012-12-14        Olivia Engel      F   6.0       1.0   \n3         4  2012-12-14  Ana Marquez-Greene      F   6.0       1.0   \n4         5  2012-12-14       Dylan Hockley      M   6.0       1.0   \n\n          city state        lat         lng  \\\n0  Westminster    CO  39.893668 -105.072112   \n1      Newtown    CT  41.412323  -73.311424   \n2      Newtown    CT  41.412323  -73.311424   \n3      Newtown    CT  41.412323  -73.311424   \n4      Newtown    CT  41.412323  -73.311424   \n\n                                                 url  \n0  http://www.9news.com/rss/story.aspx?storyid=30...  \n1  http://www.cnn.com/2012/12/15/us/connecticut-s...  \n2  http://www.cnn.com/2012/12/15/us/connecticut-s...  \n3  http://www.cnn.com/2012/12/15/us/connecticut-s...  \n4  http://www.cnn.com/2012/12/15/us/connecticut-s...  ",
      "text/html": "<div>\n<style scoped>\n    .dataframe tbody tr th:only-of-type {\n        vertical-align: middle;\n    }\n\n    .dataframe tbody tr th {\n        vertical-align: top;\n    }\n\n    .dataframe thead th {\n        text-align: right;\n    }\n</style>\n<table border=\"1\" class=\"dataframe\">\n  <thead>\n    <tr style=\"text-align: right;\">\n      <th></th>\n      <th>victimID</th>\n      <th>date</th>\n      <th>name</th>\n      <th>gender</th>\n      <th>age</th>\n      <th>ageGroup</th>\n      <th>city</th>\n      <th>state</th>\n      <th>lat</th>\n      <th>lng</th>\n      <th>url</th>\n    </tr>\n  </thead>\n  <tbody>\n    <tr>\n      <th>0</th>\n      <td>1</td>\n      <td>2012-12-14</td>\n      <td>Antida Archuleta</td>\n      <td>F</td>\n      <td>20.0</td>\n      <td>3.0</td>\n      <td>Westminster</td>\n      <td>CO</td>\n      <td>39.893668</td>\n      <td>-105.072112</td>\n      <td>http://www.9news.com/rss/story.aspx?storyid=30...</td>\n    </tr>\n    <tr>\n      <th>1</th>\n      <td>2</td>\n      <td>2012-12-14</td>\n      <td>Charlotte Bacon</td>\n      <td>F</td>\n      <td>6.0</td>\n      <td>1.0</td>\n      <td>Newtown</td>\n      <td>CT</td>\n      <td>41.412323</td>\n      <td>-73.311424</td>\n      <td>http://www.cnn.com/2012/12/15/us/connecticut-s...</td>\n    </tr>\n    <tr>\n      <th>2</th>\n      <td>3</td>\n      <td>2012-12-14</td>\n      <td>Olivia Engel</td>\n      <td>F</td>\n      <td>6.0</td>\n      <td>1.0</td>\n      <td>Newtown</td>\n      <td>CT</td>\n      <td>41.412323</td>\n      <td>-73.311424</td>\n      <td>http://www.cnn.com/2012/12/15/us/connecticut-s...</td>\n    </tr>\n    <tr>\n      <th>3</th>\n      <td>4</td>\n      <td>2012-12-14</td>\n      <td>Ana Marquez-Greene</td>\n      <td>F</td>\n      <td>6.0</td>\n      <td>1.0</td>\n      <td>Newtown</td>\n      <td>CT</td>\n      <td>41.412323</td>\n      <td>-73.311424</td>\n      <td>http://www.cnn.com/2012/12/15/us/connecticut-s...</td>\n    </tr>\n    <tr>\n      <th>4</th>\n      <td>5</td>\n      <td>2012-12-14</td>\n      <td>Dylan Hockley</td>\n      <td>M</td>\n      <td>6.0</td>\n      <td>1.0</td>\n      <td>Newtown</td>\n      <td>CT</td>\n      <td>41.412323</td>\n      <td>-73.311424</td>\n      <td>http://www.cnn.com/2012/12/15/us/connecticut-s...</td>\n    </tr>\n  </tbody>\n</table>\n</div>"
     },
     "metadata": {},
     "execution_count": 20
    }
   ],
   "source": [
    "sgd_data.head()"
   ]
  },
  {
   "cell_type": "code",
   "execution_count": 21,
   "metadata": {},
   "outputs": [],
   "source": [
    "#Pre-processing data\n",
    "sgd_data.columns = sgd_data.columns.str.lower()\n",
    "sgd_data.date = pd.to_datetime(sgd_data.date)"
   ]
  },
  {
   "cell_type": "code",
   "execution_count": 22,
   "metadata": {
    "tags": []
   },
   "outputs": [
    {
     "output_type": "stream",
     "name": "stdout",
     "text": "<class 'pandas.core.frame.DataFrame'>\nInt64Index: 12067 entries, 0 to 12069\nData columns (total 10 columns):\nvictimid    12067 non-null int64\ndate        12067 non-null datetime64[ns]\nname        12067 non-null object\ngender      12067 non-null object\nage         12067 non-null float64\nagegroup    12067 non-null int64\ncity        12067 non-null object\nstate       12067 non-null object\nlat         12067 non-null float64\nlng         12067 non-null float64\ndtypes: datetime64[ns](1), float64(3), int64(2), object(4)\nmemory usage: 1.0+ MB\n"
    }
   ],
   "source": [
    "#Filling Null Values\n",
    "null_data_fill = {\n",
    "    'name': 'No Name',\n",
    "    'gender': 'No Gender',\n",
    "    'age': 999,\n",
    "    'agegroup': 9,\n",
    "}\n",
    "sgd_data = sgd_data.fillna(null_data_fill)\n",
    "sgd_data.agegroup = sgd_data.agegroup.astype(int)\n",
    "sgd_data.to_json(r'sgd_data.json',orient='records')\n",
    "sgd_data.drop(['url'],axis=1,inplace=True)\n",
    "sgd_data.drop([4203,10293,10576],axis=0,inplace=True)\n",
    "sgd_data.info()"
   ]
  },
  {
   "cell_type": "code",
   "execution_count": 23,
   "metadata": {
    "tags": []
   },
   "outputs": [
    {
     "output_type": "stream",
     "name": "stdout",
     "text": "<class 'pandas.core.frame.DataFrame'>\nInt64Index: 12067 entries, 0 to 12069\nData columns (total 10 columns):\nvictimid    12067 non-null int64\ndate        12067 non-null datetime64[ns]\nname        12067 non-null object\ngender      12067 non-null object\nage         12067 non-null float64\nagegroup    12067 non-null int64\ncity        12067 non-null object\nstate       12067 non-null object\nlat         12067 non-null float64\nlng         12067 non-null float64\ndtypes: datetime64[ns](1), float64(3), int64(2), object(4)\nmemory usage: 1.0+ MB\n"
    }
   ],
   "source": [
    "sgd_data.info()"
   ]
  },
  {
   "cell_type": "code",
   "execution_count": 24,
   "metadata": {},
   "outputs": [
    {
     "output_type": "execute_result",
     "data": {
      "text/plain": "victimid    0\ndate        0\nname        0\ngender      0\nage         0\nagegroup    0\ncity        0\nstate       0\nlat         0\nlng         0\ndtype: int64"
     },
     "metadata": {},
     "execution_count": 24
    }
   ],
   "source": [
    "#Checking if any null values\n",
    "sgd_data.isna().sum()"
   ]
  },
  {
   "cell_type": "code",
   "execution_count": 25,
   "metadata": {},
   "outputs": [],
   "source": [
    "sgd_males_city = pd.DataFrame(sgd_data[sgd_data['gender'] == 'M'].groupby(['city', 'state'])['victimid'].count())\n",
    "sgd_females_city = pd.DataFrame(sgd_data[sgd_data['gender'] == 'F'].groupby(['city', 'state'])['victimid'].count())\n",
    "sgd_agegroup_1 = pd.DataFrame(sgd_data[sgd_data['agegroup'] == 1].groupby(['city', 'state'])['victimid'].count())\n",
    "sgd_agegroup_2 = pd.DataFrame(sgd_data[sgd_data['agegroup'] == 2].groupby(['city', 'state'])['victimid'].count())\n",
    "sgd_agegroup_3 = pd.DataFrame(sgd_data[sgd_data['agegroup'] == 3].groupby(['city', 'state'])['victimid'].count())\n",
    "sgd_agegroup_9 = pd.DataFrame(sgd_data[sgd_data['agegroup'] == 9].groupby(['city', 'state'])['victimid'].count())"
   ]
  },
  {
   "cell_type": "code",
   "execution_count": 26,
   "metadata": {},
   "outputs": [
    {
     "output_type": "execute_result",
     "data": {
      "text/plain": "                        victimid\ncity             state          \nAbbeville        LA            1\n                 SC            2\nAbbeville County SC            1\nAberdeen         MD            1\n                 NC            3",
      "text/html": "<div>\n<style scoped>\n    .dataframe tbody tr th:only-of-type {\n        vertical-align: middle;\n    }\n\n    .dataframe tbody tr th {\n        vertical-align: top;\n    }\n\n    .dataframe thead th {\n        text-align: right;\n    }\n</style>\n<table border=\"1\" class=\"dataframe\">\n  <thead>\n    <tr style=\"text-align: right;\">\n      <th></th>\n      <th></th>\n      <th>victimid</th>\n    </tr>\n    <tr>\n      <th>city</th>\n      <th>state</th>\n      <th></th>\n    </tr>\n  </thead>\n  <tbody>\n    <tr>\n      <th rowspan=\"2\" valign=\"top\">Abbeville</th>\n      <th>LA</th>\n      <td>1</td>\n    </tr>\n    <tr>\n      <th>SC</th>\n      <td>2</td>\n    </tr>\n    <tr>\n      <th>Abbeville County</th>\n      <th>SC</th>\n      <td>1</td>\n    </tr>\n    <tr>\n      <th rowspan=\"2\" valign=\"top\">Aberdeen</th>\n      <th>MD</th>\n      <td>1</td>\n    </tr>\n    <tr>\n      <th>NC</th>\n      <td>3</td>\n    </tr>\n  </tbody>\n</table>\n</div>"
     },
     "metadata": {},
     "execution_count": 26
    }
   ],
   "source": [
    "sgd_males_city.head()"
   ]
  },
  {
   "cell_type": "code",
   "execution_count": 27,
   "metadata": {},
   "outputs": [
    {
     "output_type": "execute_result",
     "data": {
      "text/plain": "                    victimid\ncity         state          \nAcworth      GA            1\nAdairsville  GA            1\nAdams County CO            1\n             WI            1\nAdelanto     CA            1",
      "text/html": "<div>\n<style scoped>\n    .dataframe tbody tr th:only-of-type {\n        vertical-align: middle;\n    }\n\n    .dataframe tbody tr th {\n        vertical-align: top;\n    }\n\n    .dataframe thead th {\n        text-align: right;\n    }\n</style>\n<table border=\"1\" class=\"dataframe\">\n  <thead>\n    <tr style=\"text-align: right;\">\n      <th></th>\n      <th></th>\n      <th>victimid</th>\n    </tr>\n    <tr>\n      <th>city</th>\n      <th>state</th>\n      <th></th>\n    </tr>\n  </thead>\n  <tbody>\n    <tr>\n      <th>Acworth</th>\n      <th>GA</th>\n      <td>1</td>\n    </tr>\n    <tr>\n      <th>Adairsville</th>\n      <th>GA</th>\n      <td>1</td>\n    </tr>\n    <tr>\n      <th rowspan=\"2\" valign=\"top\">Adams County</th>\n      <th>CO</th>\n      <td>1</td>\n    </tr>\n    <tr>\n      <th>WI</th>\n      <td>1</td>\n    </tr>\n    <tr>\n      <th>Adelanto</th>\n      <th>CA</th>\n      <td>1</td>\n    </tr>\n  </tbody>\n</table>\n</div>"
     },
     "metadata": {},
     "execution_count": 27
    }
   ],
   "source": [
    "sgd_females_city.head()"
   ]
  },
  {
   "cell_type": "code",
   "execution_count": 28,
   "metadata": {},
   "outputs": [
    {
     "output_type": "execute_result",
     "data": {
      "text/plain": "            city state  agegroup_1  agegroup_2  agegroup_3  agegroup_9\n0          Akron    OH           1           1          14           0\n1    Albuquerque    NM           1           1          28           1\n2           Alma    AR           2           0           2           0\n3  American Fork    UT           1           0           0           0\n4        Atlanta    GA           1           1          59           6",
      "text/html": "<div>\n<style scoped>\n    .dataframe tbody tr th:only-of-type {\n        vertical-align: middle;\n    }\n\n    .dataframe tbody tr th {\n        vertical-align: top;\n    }\n\n    .dataframe thead th {\n        text-align: right;\n    }\n</style>\n<table border=\"1\" class=\"dataframe\">\n  <thead>\n    <tr style=\"text-align: right;\">\n      <th></th>\n      <th>city</th>\n      <th>state</th>\n      <th>agegroup_1</th>\n      <th>agegroup_2</th>\n      <th>agegroup_3</th>\n      <th>agegroup_9</th>\n    </tr>\n  </thead>\n  <tbody>\n    <tr>\n      <th>0</th>\n      <td>Akron</td>\n      <td>OH</td>\n      <td>1</td>\n      <td>1</td>\n      <td>14</td>\n      <td>0</td>\n    </tr>\n    <tr>\n      <th>1</th>\n      <td>Albuquerque</td>\n      <td>NM</td>\n      <td>1</td>\n      <td>1</td>\n      <td>28</td>\n      <td>1</td>\n    </tr>\n    <tr>\n      <th>2</th>\n      <td>Alma</td>\n      <td>AR</td>\n      <td>2</td>\n      <td>0</td>\n      <td>2</td>\n      <td>0</td>\n    </tr>\n    <tr>\n      <th>3</th>\n      <td>American Fork</td>\n      <td>UT</td>\n      <td>1</td>\n      <td>0</td>\n      <td>0</td>\n      <td>0</td>\n    </tr>\n    <tr>\n      <th>4</th>\n      <td>Atlanta</td>\n      <td>GA</td>\n      <td>1</td>\n      <td>1</td>\n      <td>59</td>\n      <td>6</td>\n    </tr>\n  </tbody>\n</table>\n</div>"
     },
     "metadata": {},
     "execution_count": 28
    }
   ],
   "source": [
    "sgd_agegroup_012 = pd.merge(left=sgd_agegroup_1,right=sgd_agegroup_2,how='outer',on=['city','state'],suffixes=('_agegroup_1', '_agegroup_2')).fillna(0)\n",
    "sgd_agegroup_0123 = pd.merge(left=sgd_agegroup_012,right=sgd_agegroup_3,how='outer',on=['city','state'],suffixes=('_agegroup_2', '_agegroup_3')).fillna(0)\n",
    "sgd_agegroup = pd.merge(left=sgd_agegroup_0123,right=sgd_agegroup_9,how='outer',on=['city','state'],suffixes=('_agegroup_3', '_agegroup_9')).fillna(0).reset_index()\n",
    "sgd_agegroup.columns = ['city','state','agegroup_1','agegroup_2','agegroup_3','agegroup_9']\n",
    "sgd_agegroup = sgd_agegroup.astype({'agegroup_1': 'int16', 'agegroup_2': 'int16','agegroup_3': 'int16','agegroup_9': 'int16'})\n",
    "sgd_agegroup.head()"
   ]
  },
  {
   "cell_type": "code",
   "execution_count": 29,
   "metadata": {},
   "outputs": [
    {
     "output_type": "execute_result",
     "data": {
      "text/plain": "               city state  males  females\n0         Abbeville    LA      1        0\n1         Abbeville    SC      2        0\n2  Abbeville County    SC      1        0\n3          Aberdeen    MD      1        0\n4          Aberdeen    NC      3        0",
      "text/html": "<div>\n<style scoped>\n    .dataframe tbody tr th:only-of-type {\n        vertical-align: middle;\n    }\n\n    .dataframe tbody tr th {\n        vertical-align: top;\n    }\n\n    .dataframe thead th {\n        text-align: right;\n    }\n</style>\n<table border=\"1\" class=\"dataframe\">\n  <thead>\n    <tr style=\"text-align: right;\">\n      <th></th>\n      <th>city</th>\n      <th>state</th>\n      <th>males</th>\n      <th>females</th>\n    </tr>\n  </thead>\n  <tbody>\n    <tr>\n      <th>0</th>\n      <td>Abbeville</td>\n      <td>LA</td>\n      <td>1</td>\n      <td>0</td>\n    </tr>\n    <tr>\n      <th>1</th>\n      <td>Abbeville</td>\n      <td>SC</td>\n      <td>2</td>\n      <td>0</td>\n    </tr>\n    <tr>\n      <th>2</th>\n      <td>Abbeville County</td>\n      <td>SC</td>\n      <td>1</td>\n      <td>0</td>\n    </tr>\n    <tr>\n      <th>3</th>\n      <td>Aberdeen</td>\n      <td>MD</td>\n      <td>1</td>\n      <td>0</td>\n    </tr>\n    <tr>\n      <th>4</th>\n      <td>Aberdeen</td>\n      <td>NC</td>\n      <td>3</td>\n      <td>0</td>\n    </tr>\n  </tbody>\n</table>\n</div>"
     },
     "metadata": {},
     "execution_count": 29
    }
   ],
   "source": [
    "#Merge males and females to get total count\n",
    "sgd_city = pd.merge(left=sgd_males_city,right=sgd_females_city,how='outer',on=['city','state'],suffixes=('_male', '_female')).fillna(0).reset_index()\n",
    "sgd_city = sgd_city.astype({'victimid_male': 'int16', 'victimid_female': 'int16'})\n",
    "sgd_city.columns = ['city','state','males','females']\n",
    "sgd_city.head()"
   ]
  },
  {
   "cell_type": "code",
   "execution_count": 30,
   "metadata": {},
   "outputs": [
    {
     "output_type": "execute_result",
     "data": {
      "text/plain": "               city state  males  females  agegroup_1  agegroup_2  agegroup_3  \\\n0         Abbeville    LA      1        0           0           0           1   \n1         Abbeville    SC      2        0           0           0           2   \n2  Abbeville County    SC      1        0           0           0           1   \n3          Aberdeen    MD      1        0           0           0           1   \n4          Aberdeen    NC      3        0           0           1           2   \n\n   agegroup_9        lat        lng  \n0           0  29.974650 -92.134292  \n1           0  34.178172 -82.379015  \n2           0  34.249294 -82.473258  \n3           0  39.509556 -76.164120  \n4           0  35.131547 -79.429479  ",
      "text/html": "<div>\n<style scoped>\n    .dataframe tbody tr th:only-of-type {\n        vertical-align: middle;\n    }\n\n    .dataframe tbody tr th {\n        vertical-align: top;\n    }\n\n    .dataframe thead th {\n        text-align: right;\n    }\n</style>\n<table border=\"1\" class=\"dataframe\">\n  <thead>\n    <tr style=\"text-align: right;\">\n      <th></th>\n      <th>city</th>\n      <th>state</th>\n      <th>males</th>\n      <th>females</th>\n      <th>agegroup_1</th>\n      <th>agegroup_2</th>\n      <th>agegroup_3</th>\n      <th>agegroup_9</th>\n      <th>lat</th>\n      <th>lng</th>\n    </tr>\n  </thead>\n  <tbody>\n    <tr>\n      <th>0</th>\n      <td>Abbeville</td>\n      <td>LA</td>\n      <td>1</td>\n      <td>0</td>\n      <td>0</td>\n      <td>0</td>\n      <td>1</td>\n      <td>0</td>\n      <td>29.974650</td>\n      <td>-92.134292</td>\n    </tr>\n    <tr>\n      <th>1</th>\n      <td>Abbeville</td>\n      <td>SC</td>\n      <td>2</td>\n      <td>0</td>\n      <td>0</td>\n      <td>0</td>\n      <td>2</td>\n      <td>0</td>\n      <td>34.178172</td>\n      <td>-82.379015</td>\n    </tr>\n    <tr>\n      <th>2</th>\n      <td>Abbeville County</td>\n      <td>SC</td>\n      <td>1</td>\n      <td>0</td>\n      <td>0</td>\n      <td>0</td>\n      <td>1</td>\n      <td>0</td>\n      <td>34.249294</td>\n      <td>-82.473258</td>\n    </tr>\n    <tr>\n      <th>3</th>\n      <td>Aberdeen</td>\n      <td>MD</td>\n      <td>1</td>\n      <td>0</td>\n      <td>0</td>\n      <td>0</td>\n      <td>1</td>\n      <td>0</td>\n      <td>39.509556</td>\n      <td>-76.164120</td>\n    </tr>\n    <tr>\n      <th>4</th>\n      <td>Aberdeen</td>\n      <td>NC</td>\n      <td>3</td>\n      <td>0</td>\n      <td>0</td>\n      <td>1</td>\n      <td>2</td>\n      <td>0</td>\n      <td>35.131547</td>\n      <td>-79.429479</td>\n    </tr>\n  </tbody>\n</table>\n</div>"
     },
     "metadata": {},
     "execution_count": 30
    }
   ],
   "source": [
    "#Merge latitude ad longitude information to the males and female counts\n",
    "#Generating Frequecy data per city\n",
    "sgd_city_coordinates = sgd_data[['city', 'state', 'lat', 'lng']].drop_duplicates(subset=['city', 'state'], keep='first')\n",
    "sgd_age = pd.merge(left=sgd_agegroup,right=sgd_city_coordinates, how='inner', on=['city', 'state'])\n",
    "sgd_city = pd.merge(left=sgd_city,right=sgd_age, how='inner', on=['city', 'state'])\n",
    "sgd_city.head()"
   ]
  },
  {
   "cell_type": "code",
   "execution_count": 31,
   "metadata": {},
   "outputs": [
    {
     "output_type": "execute_result",
     "data": {
      "text/plain": "        statename state\n0         Alabama    AL\n1          Alaska    AK\n2  American Samoa    AS\n3         Arizona    AZ\n4        Arkansas    AR",
      "text/html": "<div>\n<style scoped>\n    .dataframe tbody tr th:only-of-type {\n        vertical-align: middle;\n    }\n\n    .dataframe tbody tr th {\n        vertical-align: top;\n    }\n\n    .dataframe thead th {\n        text-align: right;\n    }\n</style>\n<table border=\"1\" class=\"dataframe\">\n  <thead>\n    <tr style=\"text-align: right;\">\n      <th></th>\n      <th>statename</th>\n      <th>state</th>\n    </tr>\n  </thead>\n  <tbody>\n    <tr>\n      <th>0</th>\n      <td>Alabama</td>\n      <td>AL</td>\n    </tr>\n    <tr>\n      <th>1</th>\n      <td>Alaska</td>\n      <td>AK</td>\n    </tr>\n    <tr>\n      <th>2</th>\n      <td>American Samoa</td>\n      <td>AS</td>\n    </tr>\n    <tr>\n      <th>3</th>\n      <td>Arizona</td>\n      <td>AZ</td>\n    </tr>\n    <tr>\n      <th>4</th>\n      <td>Arkansas</td>\n      <td>AR</td>\n    </tr>\n  </tbody>\n</table>\n</div>"
     },
     "metadata": {},
     "execution_count": 31
    }
   ],
   "source": [
    "#Converting state codes to state names\n",
    "state_details = pd.read_csv('us-states-postal-code.csv')\n",
    "state_details.columns = state_details.columns.str.lower()\n",
    "state_details.columns = ['statename','state']\n",
    "state_details.head()"
   ]
  },
  {
   "cell_type": "code",
   "execution_count": 32,
   "metadata": {},
   "outputs": [
    {
     "output_type": "execute_result",
     "data": {
      "text/plain": "               city state  males  females  agegroup_1  agegroup_2  agegroup_3  \\\n0         Abbeville    LA      1        0           0           0           1   \n1           Algiers    LA      2        0           0           0           2   \n2  Ascension Parish    LA      1        0           0           0           1   \n3          Avondale    LA      3        0           0           1           2   \n4             Baker    LA      1        0           0           0           1   \n\n   agegroup_9        lat        lng  statename  \n0           0  29.974650 -92.134292  Louisiana  \n1           0  29.951051 -90.081089  Louisiana  \n2           0  30.204658 -90.889630  Louisiana  \n3           0  29.912983 -90.203687  Louisiana  \n4           0  30.588243 -91.168163  Louisiana  ",
      "text/html": "<div>\n<style scoped>\n    .dataframe tbody tr th:only-of-type {\n        vertical-align: middle;\n    }\n\n    .dataframe tbody tr th {\n        vertical-align: top;\n    }\n\n    .dataframe thead th {\n        text-align: right;\n    }\n</style>\n<table border=\"1\" class=\"dataframe\">\n  <thead>\n    <tr style=\"text-align: right;\">\n      <th></th>\n      <th>city</th>\n      <th>state</th>\n      <th>males</th>\n      <th>females</th>\n      <th>agegroup_1</th>\n      <th>agegroup_2</th>\n      <th>agegroup_3</th>\n      <th>agegroup_9</th>\n      <th>lat</th>\n      <th>lng</th>\n      <th>statename</th>\n    </tr>\n  </thead>\n  <tbody>\n    <tr>\n      <th>0</th>\n      <td>Abbeville</td>\n      <td>LA</td>\n      <td>1</td>\n      <td>0</td>\n      <td>0</td>\n      <td>0</td>\n      <td>1</td>\n      <td>0</td>\n      <td>29.974650</td>\n      <td>-92.134292</td>\n      <td>Louisiana</td>\n    </tr>\n    <tr>\n      <th>1</th>\n      <td>Algiers</td>\n      <td>LA</td>\n      <td>2</td>\n      <td>0</td>\n      <td>0</td>\n      <td>0</td>\n      <td>2</td>\n      <td>0</td>\n      <td>29.951051</td>\n      <td>-90.081089</td>\n      <td>Louisiana</td>\n    </tr>\n    <tr>\n      <th>2</th>\n      <td>Ascension Parish</td>\n      <td>LA</td>\n      <td>1</td>\n      <td>0</td>\n      <td>0</td>\n      <td>0</td>\n      <td>1</td>\n      <td>0</td>\n      <td>30.204658</td>\n      <td>-90.889630</td>\n      <td>Louisiana</td>\n    </tr>\n    <tr>\n      <th>3</th>\n      <td>Avondale</td>\n      <td>LA</td>\n      <td>3</td>\n      <td>0</td>\n      <td>0</td>\n      <td>1</td>\n      <td>2</td>\n      <td>0</td>\n      <td>29.912983</td>\n      <td>-90.203687</td>\n      <td>Louisiana</td>\n    </tr>\n    <tr>\n      <th>4</th>\n      <td>Baker</td>\n      <td>LA</td>\n      <td>1</td>\n      <td>0</td>\n      <td>0</td>\n      <td>0</td>\n      <td>1</td>\n      <td>0</td>\n      <td>30.588243</td>\n      <td>-91.168163</td>\n      <td>Louisiana</td>\n    </tr>\n  </tbody>\n</table>\n</div>"
     },
     "metadata": {},
     "execution_count": 32
    }
   ],
   "source": [
    "sgd_city = pd.merge(left=sgd_city, right=state_details,on='state')\n",
    "sgd_city.head()"
   ]
  },
  {
   "cell_type": "code",
   "execution_count": 33,
   "metadata": {},
   "outputs": [],
   "source": [
    "sgd_city.to_csv('frequency_by_city.csv',sep=',')\n",
    "sgd_city.to_json(r'frequency_by_city.json',orient='records')"
   ]
  },
  {
   "cell_type": "code",
   "execution_count": null,
   "metadata": {},
   "outputs": [],
   "source": []
  }
 ],
 "metadata": {
  "kernelspec": {
   "display_name": "Python 3",
   "language": "python",
   "name": "python3"
  },
  "language_info": {
   "codemirror_mode": {
    "name": "ipython",
    "version": 3
   },
   "file_extension": ".py",
   "mimetype": "text/x-python",
   "name": "python",
   "nbconvert_exporter": "python",
   "pygments_lexer": "ipython3",
   "version": "3.7.3-final"
  }
 },
 "nbformat": 4,
 "nbformat_minor": 2
}